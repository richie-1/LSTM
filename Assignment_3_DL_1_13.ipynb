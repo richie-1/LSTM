{
  "nbformat": 4,
  "nbformat_minor": 0,
  "metadata": {
    "kernelspec": {
      "display_name": "Python 3",
      "language": "python",
      "name": "python3"
    },
    "language_info": {
      "codemirror_mode": {
        "name": "ipython",
        "version": 3
      },
      "file_extension": ".py",
      "mimetype": "text/x-python",
      "name": "python",
      "nbconvert_exporter": "python",
      "pygments_lexer": "ipython3",
      "version": "3.7.4"
    },
    "colab": {
      "name": "Assignment 3 - DL 1.13.ipynb",
      "provenance": [],
      "include_colab_link": true
    },
    "accelerator": "GPU"
  },
  "cells": [
    {
      "cell_type": "markdown",
      "metadata": {
        "id": "view-in-github",
        "colab_type": "text"
      },
      "source": [
        "<a href=\"https://colab.research.google.com/github/richie-1/LSTM/blob/main/Assignment_3_DL_1_13.ipynb\" target=\"_parent\"><img src=\"https://colab.research.google.com/assets/colab-badge.svg\" alt=\"Open In Colab\"/></a>"
      ]
    },
    {
      "cell_type": "code",
      "metadata": {
        "id": "j0EjlyroEFns"
      },
      "source": [
        "import numpy as np\n",
        "import pandas as pd\n",
        "import random\n",
        "%matplotlib inline\n",
        "import matplotlib.pyplot as plt\n",
        "import datetime\n",
        "import time\n",
        "from tqdm import tqdm_notebook\n",
        "import warnings\n",
        "#warnings.filterwarnings('ignore')\n",
        "from sklearn.preprocessing import MinMaxScaler\n",
        "from sklearn.pipeline import Pipeline\n",
        "from sklearn.compose import ColumnTransformer\n",
        "import math\n",
        "from sklearn.metrics import mean_squared_error"
      ],
      "execution_count": 88,
      "outputs": []
    },
    {
      "cell_type": "code",
      "metadata": {
        "id": "s52aga4sEFnx"
      },
      "source": [
        "import tensorflow as tf\n",
        "from keras.models import Sequential\n",
        "from keras.layers import Dense, Dropout, LSTM, BatchNormalization"
      ],
      "execution_count": 89,
      "outputs": []
    },
    {
      "cell_type": "code",
      "metadata": {
        "id": "QovTsjnDEFn1"
      },
      "source": [
        "url = 'https://raw.githubusercontent.com/richie-1/LSTM/main/Google_Stock_Price_Train.csv'\n",
        "df = pd.read_csv(url, parse_dates=['Date'])"
      ],
      "execution_count": 90,
      "outputs": []
    },
    {
      "cell_type": "code",
      "metadata": {
        "id": "9ZLJk3K9EFn4",
        "outputId": "39754a7d-66ba-4fcd-b88f-52370761cd01",
        "colab": {
          "base_uri": "https://localhost:8080/",
          "height": 204
        }
      },
      "source": [
        "df.head()"
      ],
      "execution_count": 91,
      "outputs": [
        {
          "output_type": "execute_result",
          "data": {
            "text/html": [
              "<div>\n",
              "<style scoped>\n",
              "    .dataframe tbody tr th:only-of-type {\n",
              "        vertical-align: middle;\n",
              "    }\n",
              "\n",
              "    .dataframe tbody tr th {\n",
              "        vertical-align: top;\n",
              "    }\n",
              "\n",
              "    .dataframe thead th {\n",
              "        text-align: right;\n",
              "    }\n",
              "</style>\n",
              "<table border=\"1\" class=\"dataframe\">\n",
              "  <thead>\n",
              "    <tr style=\"text-align: right;\">\n",
              "      <th></th>\n",
              "      <th>Date</th>\n",
              "      <th>Open</th>\n",
              "      <th>High</th>\n",
              "      <th>Low</th>\n",
              "      <th>Close</th>\n",
              "      <th>Volume</th>\n",
              "    </tr>\n",
              "  </thead>\n",
              "  <tbody>\n",
              "    <tr>\n",
              "      <th>0</th>\n",
              "      <td>2012-01-03</td>\n",
              "      <td>325.25</td>\n",
              "      <td>332.83</td>\n",
              "      <td>324.97</td>\n",
              "      <td>663.59</td>\n",
              "      <td>7,380,500</td>\n",
              "    </tr>\n",
              "    <tr>\n",
              "      <th>1</th>\n",
              "      <td>2012-01-04</td>\n",
              "      <td>331.27</td>\n",
              "      <td>333.87</td>\n",
              "      <td>329.08</td>\n",
              "      <td>666.45</td>\n",
              "      <td>5,749,400</td>\n",
              "    </tr>\n",
              "    <tr>\n",
              "      <th>2</th>\n",
              "      <td>2012-01-05</td>\n",
              "      <td>329.83</td>\n",
              "      <td>330.75</td>\n",
              "      <td>326.89</td>\n",
              "      <td>657.21</td>\n",
              "      <td>6,590,300</td>\n",
              "    </tr>\n",
              "    <tr>\n",
              "      <th>3</th>\n",
              "      <td>2012-01-06</td>\n",
              "      <td>328.34</td>\n",
              "      <td>328.77</td>\n",
              "      <td>323.68</td>\n",
              "      <td>648.24</td>\n",
              "      <td>5,405,900</td>\n",
              "    </tr>\n",
              "    <tr>\n",
              "      <th>4</th>\n",
              "      <td>2012-01-09</td>\n",
              "      <td>322.04</td>\n",
              "      <td>322.29</td>\n",
              "      <td>309.46</td>\n",
              "      <td>620.76</td>\n",
              "      <td>11,688,800</td>\n",
              "    </tr>\n",
              "  </tbody>\n",
              "</table>\n",
              "</div>"
            ],
            "text/plain": [
              "        Date    Open    High     Low   Close      Volume\n",
              "0 2012-01-03  325.25  332.83  324.97  663.59   7,380,500\n",
              "1 2012-01-04  331.27  333.87  329.08  666.45   5,749,400\n",
              "2 2012-01-05  329.83  330.75  326.89  657.21   6,590,300\n",
              "3 2012-01-06  328.34  328.77  323.68  648.24   5,405,900\n",
              "4 2012-01-09  322.04  322.29  309.46  620.76  11,688,800"
            ]
          },
          "metadata": {
            "tags": []
          },
          "execution_count": 91
        }
      ]
    },
    {
      "cell_type": "code",
      "metadata": {
        "id": "2lPhPAQ1EFn7",
        "outputId": "12c5b0d3-bf75-4ad2-cc5e-1c5dcfa7920a",
        "colab": {
          "base_uri": "https://localhost:8080/",
          "height": 34
        }
      },
      "source": [
        "df.shape"
      ],
      "execution_count": 92,
      "outputs": [
        {
          "output_type": "execute_result",
          "data": {
            "text/plain": [
              "(1258, 6)"
            ]
          },
          "metadata": {
            "tags": []
          },
          "execution_count": 92
        }
      ]
    },
    {
      "cell_type": "code",
      "metadata": {
        "id": "obW-XULXEFn-",
        "outputId": "28c57cde-96e0-4f53-b5f8-3d7a8e46ff50",
        "colab": {
          "base_uri": "https://localhost:8080/",
          "height": 136
        }
      },
      "source": [
        "df.dtypes"
      ],
      "execution_count": 93,
      "outputs": [
        {
          "output_type": "execute_result",
          "data": {
            "text/plain": [
              "Date      datetime64[ns]\n",
              "Open             float64\n",
              "High             float64\n",
              "Low              float64\n",
              "Close             object\n",
              "Volume            object\n",
              "dtype: object"
            ]
          },
          "metadata": {
            "tags": []
          },
          "execution_count": 93
        }
      ]
    },
    {
      "cell_type": "code",
      "metadata": {
        "id": "YCPUQJmVEFoB"
      },
      "source": [
        "df.replace(',','', regex=True, inplace=True)\n",
        "df['Close'] = pd.to_numeric(df['Close'], downcast= 'float')\n",
        "df['Volume'] = pd.to_numeric(df['Volume'], downcast= 'float')"
      ],
      "execution_count": 94,
      "outputs": []
    },
    {
      "cell_type": "code",
      "metadata": {
        "id": "ySzt0CytEFoE",
        "outputId": "1ebe030d-9557-4542-eb4b-593887e6511c",
        "colab": {
          "base_uri": "https://localhost:8080/",
          "height": 136
        }
      },
      "source": [
        "df.isnull().any()"
      ],
      "execution_count": 95,
      "outputs": [
        {
          "output_type": "execute_result",
          "data": {
            "text/plain": [
              "Date      False\n",
              "Open      False\n",
              "High      False\n",
              "Low       False\n",
              "Close     False\n",
              "Volume    False\n",
              "dtype: bool"
            ]
          },
          "metadata": {
            "tags": []
          },
          "execution_count": 95
        }
      ]
    },
    {
      "cell_type": "code",
      "metadata": {
        "id": "Yo_8IwvzEFoH",
        "outputId": "cbf98aff-7705-42c8-d7f3-3b7c67114dc7",
        "colab": {
          "base_uri": "https://localhost:8080/",
          "height": 297
        }
      },
      "source": [
        "df.describe()"
      ],
      "execution_count": 96,
      "outputs": [
        {
          "output_type": "execute_result",
          "data": {
            "text/html": [
              "<div>\n",
              "<style scoped>\n",
              "    .dataframe tbody tr th:only-of-type {\n",
              "        vertical-align: middle;\n",
              "    }\n",
              "\n",
              "    .dataframe tbody tr th {\n",
              "        vertical-align: top;\n",
              "    }\n",
              "\n",
              "    .dataframe thead th {\n",
              "        text-align: right;\n",
              "    }\n",
              "</style>\n",
              "<table border=\"1\" class=\"dataframe\">\n",
              "  <thead>\n",
              "    <tr style=\"text-align: right;\">\n",
              "      <th></th>\n",
              "      <th>Open</th>\n",
              "      <th>High</th>\n",
              "      <th>Low</th>\n",
              "      <th>Close</th>\n",
              "      <th>Volume</th>\n",
              "    </tr>\n",
              "  </thead>\n",
              "  <tbody>\n",
              "    <tr>\n",
              "      <th>count</th>\n",
              "      <td>1258.000000</td>\n",
              "      <td>1258.000000</td>\n",
              "      <td>1258.000000</td>\n",
              "      <td>1258.000000</td>\n",
              "      <td>1258.0</td>\n",
              "    </tr>\n",
              "    <tr>\n",
              "      <th>mean</th>\n",
              "      <td>533.709833</td>\n",
              "      <td>537.880223</td>\n",
              "      <td>529.007409</td>\n",
              "      <td>712.669678</td>\n",
              "      <td>3158107.0</td>\n",
              "    </tr>\n",
              "    <tr>\n",
              "      <th>std</th>\n",
              "      <td>151.904442</td>\n",
              "      <td>153.008811</td>\n",
              "      <td>150.552807</td>\n",
              "      <td>164.752609</td>\n",
              "      <td>2273726.0</td>\n",
              "    </tr>\n",
              "    <tr>\n",
              "      <th>min</th>\n",
              "      <td>279.120000</td>\n",
              "      <td>281.210000</td>\n",
              "      <td>277.220000</td>\n",
              "      <td>491.200012</td>\n",
              "      <td>7900.0</td>\n",
              "    </tr>\n",
              "    <tr>\n",
              "      <th>25%</th>\n",
              "      <td>404.115000</td>\n",
              "      <td>406.765000</td>\n",
              "      <td>401.765000</td>\n",
              "      <td>576.740021</td>\n",
              "      <td>1621700.0</td>\n",
              "    </tr>\n",
              "    <tr>\n",
              "      <th>50%</th>\n",
              "      <td>537.470000</td>\n",
              "      <td>540.750000</td>\n",
              "      <td>532.990000</td>\n",
              "      <td>695.675018</td>\n",
              "      <td>2566150.0</td>\n",
              "    </tr>\n",
              "    <tr>\n",
              "      <th>75%</th>\n",
              "      <td>654.922500</td>\n",
              "      <td>662.587500</td>\n",
              "      <td>644.800000</td>\n",
              "      <td>782.104980</td>\n",
              "      <td>4122500.0</td>\n",
              "    </tr>\n",
              "    <tr>\n",
              "      <th>max</th>\n",
              "      <td>816.680000</td>\n",
              "      <td>816.680000</td>\n",
              "      <td>805.140000</td>\n",
              "      <td>1216.829956</td>\n",
              "      <td>24977900.0</td>\n",
              "    </tr>\n",
              "  </tbody>\n",
              "</table>\n",
              "</div>"
            ],
            "text/plain": [
              "              Open         High          Low        Close      Volume\n",
              "count  1258.000000  1258.000000  1258.000000  1258.000000      1258.0\n",
              "mean    533.709833   537.880223   529.007409   712.669678   3158107.0\n",
              "std     151.904442   153.008811   150.552807   164.752609   2273726.0\n",
              "min     279.120000   281.210000   277.220000   491.200012      7900.0\n",
              "25%     404.115000   406.765000   401.765000   576.740021   1621700.0\n",
              "50%     537.470000   540.750000   532.990000   695.675018   2566150.0\n",
              "75%     654.922500   662.587500   644.800000   782.104980   4122500.0\n",
              "max     816.680000   816.680000   805.140000  1216.829956  24977900.0"
            ]
          },
          "metadata": {
            "tags": []
          },
          "execution_count": 96
        }
      ]
    },
    {
      "cell_type": "code",
      "metadata": {
        "id": "EmmVytT2EFoK",
        "outputId": "bed24114-24e0-46a3-ce6d-4f547cece7a6",
        "colab": {
          "base_uri": "https://localhost:8080/",
          "height": 892
        }
      },
      "source": [
        "df.hist(bins=50, figsize=(20,15),color='red')\n",
        "plt.show()"
      ],
      "execution_count": 97,
      "outputs": [
        {
          "output_type": "display_data",
          "data": {
            "image/png": "[encoded data removed]",
            "text/plain": [
              "<Figure size 1440x1080 with 6 Axes>"
            ]
          },
          "metadata": {
            "tags": [],
            "needs_background": "light"
          }
        }
      ]
    },
    {
      "cell_type": "code",
      "metadata": {
        "id": "GSdLslCLEFoM",
        "outputId": "ba7bee8b-1fc2-4124-a467-0ec6f3e5a25a",
        "colab": {
          "base_uri": "https://localhost:8080/",
          "height": 102
        }
      },
      "source": [
        "for i in range(len(df.Date)):\n",
        "    if df.Close[i] > df.High[i]:\n",
        "        df.Close[i] = df.Close[i] / 2.002"
      ],
      "execution_count": 98,
      "outputs": [
        {
          "output_type": "stream",
          "text": [
            "/usr/local/lib/python3.6/dist-packages/ipykernel_launcher.py:3: SettingWithCopyWarning: \n",
            "A value is trying to be set on a copy of a slice from a DataFrame\n",
            "\n",
            "See the caveats in the documentation: https://pandas.pydata.org/pandas-docs/stable/user_guide/indexing.html#returning-a-view-versus-a-copy\n",
            "  This is separate from the ipykernel package so we can avoid doing imports until\n"
          ],
          "name": "stderr"
        }
      ]
    },
    {
      "cell_type": "code",
      "metadata": {
        "id": "LvdmSfKAEFoP",
        "outputId": "efd9e1b1-47c9-4ded-c590-253c1cfdc888",
        "colab": {
          "base_uri": "https://localhost:8080/",
          "height": 297
        }
      },
      "source": [
        "df.describe()"
      ],
      "execution_count": 99,
      "outputs": [
        {
          "output_type": "execute_result",
          "data": {
            "text/html": [
              "<div>\n",
              "<style scoped>\n",
              "    .dataframe tbody tr th:only-of-type {\n",
              "        vertical-align: middle;\n",
              "    }\n",
              "\n",
              "    .dataframe tbody tr th {\n",
              "        vertical-align: top;\n",
              "    }\n",
              "\n",
              "    .dataframe thead th {\n",
              "        text-align: right;\n",
              "    }\n",
              "</style>\n",
              "<table border=\"1\" class=\"dataframe\">\n",
              "  <thead>\n",
              "    <tr style=\"text-align: right;\">\n",
              "      <th></th>\n",
              "      <th>Open</th>\n",
              "      <th>High</th>\n",
              "      <th>Low</th>\n",
              "      <th>Close</th>\n",
              "      <th>Volume</th>\n",
              "    </tr>\n",
              "  </thead>\n",
              "  <tbody>\n",
              "    <tr>\n",
              "      <th>count</th>\n",
              "      <td>1258.000000</td>\n",
              "      <td>1258.000000</td>\n",
              "      <td>1258.000000</td>\n",
              "      <td>1258.000000</td>\n",
              "      <td>1258.0</td>\n",
              "    </tr>\n",
              "    <tr>\n",
              "      <th>mean</th>\n",
              "      <td>533.709833</td>\n",
              "      <td>537.880223</td>\n",
              "      <td>529.007409</td>\n",
              "      <td>533.289185</td>\n",
              "      <td>3158107.0</td>\n",
              "    </tr>\n",
              "    <tr>\n",
              "      <th>std</th>\n",
              "      <td>151.904442</td>\n",
              "      <td>153.008811</td>\n",
              "      <td>150.552807</td>\n",
              "      <td>151.866577</td>\n",
              "      <td>2273726.0</td>\n",
              "    </tr>\n",
              "    <tr>\n",
              "      <th>min</th>\n",
              "      <td>279.120000</td>\n",
              "      <td>281.210000</td>\n",
              "      <td>277.220000</td>\n",
              "      <td>278.481537</td>\n",
              "      <td>7900.0</td>\n",
              "    </tr>\n",
              "    <tr>\n",
              "      <th>25%</th>\n",
              "      <td>404.115000</td>\n",
              "      <td>406.765000</td>\n",
              "      <td>401.765000</td>\n",
              "      <td>403.759987</td>\n",
              "      <td>1621700.0</td>\n",
              "    </tr>\n",
              "    <tr>\n",
              "      <th>50%</th>\n",
              "      <td>537.470000</td>\n",
              "      <td>540.750000</td>\n",
              "      <td>532.990000</td>\n",
              "      <td>537.410004</td>\n",
              "      <td>2566150.0</td>\n",
              "    </tr>\n",
              "    <tr>\n",
              "      <th>75%</th>\n",
              "      <td>654.922500</td>\n",
              "      <td>662.587500</td>\n",
              "      <td>644.800000</td>\n",
              "      <td>652.172485</td>\n",
              "      <td>4122500.0</td>\n",
              "    </tr>\n",
              "    <tr>\n",
              "      <th>max</th>\n",
              "      <td>816.680000</td>\n",
              "      <td>816.680000</td>\n",
              "      <td>805.140000</td>\n",
              "      <td>813.109985</td>\n",
              "      <td>24977900.0</td>\n",
              "    </tr>\n",
              "  </tbody>\n",
              "</table>\n",
              "</div>"
            ],
            "text/plain": [
              "              Open         High          Low        Close      Volume\n",
              "count  1258.000000  1258.000000  1258.000000  1258.000000      1258.0\n",
              "mean    533.709833   537.880223   529.007409   533.289185   3158107.0\n",
              "std     151.904442   153.008811   150.552807   151.866577   2273726.0\n",
              "min     279.120000   281.210000   277.220000   278.481537      7900.0\n",
              "25%     404.115000   406.765000   401.765000   403.759987   1621700.0\n",
              "50%     537.470000   540.750000   532.990000   537.410004   2566150.0\n",
              "75%     654.922500   662.587500   644.800000   652.172485   4122500.0\n",
              "max     816.680000   816.680000   805.140000   813.109985  24977900.0"
            ]
          },
          "metadata": {
            "tags": []
          },
          "execution_count": 99
        }
      ]
    },
    {
      "cell_type": "code",
      "metadata": {
        "id": "qbqpJ-puEFoR",
        "outputId": "fa971a4c-cbce-4b24-d16f-3fccc1912732",
        "colab": {
          "base_uri": "https://localhost:8080/",
          "height": 419
        }
      },
      "source": [
        "df"
      ],
      "execution_count": 100,
      "outputs": [
        {
          "output_type": "execute_result",
          "data": {
            "text/html": [
              "<div>\n",
              "<style scoped>\n",
              "    .dataframe tbody tr th:only-of-type {\n",
              "        vertical-align: middle;\n",
              "    }\n",
              "\n",
              "    .dataframe tbody tr th {\n",
              "        vertical-align: top;\n",
              "    }\n",
              "\n",
              "    .dataframe thead th {\n",
              "        text-align: right;\n",
              "    }\n",
              "</style>\n",
              "<table border=\"1\" class=\"dataframe\">\n",
              "  <thead>\n",
              "    <tr style=\"text-align: right;\">\n",
              "      <th></th>\n",
              "      <th>Date</th>\n",
              "      <th>Open</th>\n",
              "      <th>High</th>\n",
              "      <th>Low</th>\n",
              "      <th>Close</th>\n",
              "      <th>Volume</th>\n",
              "    </tr>\n",
              "  </thead>\n",
              "  <tbody>\n",
              "    <tr>\n",
              "      <th>0</th>\n",
              "      <td>2012-01-03</td>\n",
              "      <td>325.25</td>\n",
              "      <td>332.83</td>\n",
              "      <td>324.97</td>\n",
              "      <td>331.463562</td>\n",
              "      <td>7380500.0</td>\n",
              "    </tr>\n",
              "    <tr>\n",
              "      <th>1</th>\n",
              "      <td>2012-01-04</td>\n",
              "      <td>331.27</td>\n",
              "      <td>333.87</td>\n",
              "      <td>329.08</td>\n",
              "      <td>332.892120</td>\n",
              "      <td>5749400.0</td>\n",
              "    </tr>\n",
              "    <tr>\n",
              "      <th>2</th>\n",
              "      <td>2012-01-05</td>\n",
              "      <td>329.83</td>\n",
              "      <td>330.75</td>\n",
              "      <td>326.89</td>\n",
              "      <td>328.276733</td>\n",
              "      <td>6590300.0</td>\n",
              "    </tr>\n",
              "    <tr>\n",
              "      <th>3</th>\n",
              "      <td>2012-01-06</td>\n",
              "      <td>328.34</td>\n",
              "      <td>328.77</td>\n",
              "      <td>323.68</td>\n",
              "      <td>323.796204</td>\n",
              "      <td>5405900.0</td>\n",
              "    </tr>\n",
              "    <tr>\n",
              "      <th>4</th>\n",
              "      <td>2012-01-09</td>\n",
              "      <td>322.04</td>\n",
              "      <td>322.29</td>\n",
              "      <td>309.46</td>\n",
              "      <td>310.069946</td>\n",
              "      <td>11688800.0</td>\n",
              "    </tr>\n",
              "    <tr>\n",
              "      <th>...</th>\n",
              "      <td>...</td>\n",
              "      <td>...</td>\n",
              "      <td>...</td>\n",
              "      <td>...</td>\n",
              "      <td>...</td>\n",
              "      <td>...</td>\n",
              "    </tr>\n",
              "    <tr>\n",
              "      <th>1253</th>\n",
              "      <td>2016-12-23</td>\n",
              "      <td>790.90</td>\n",
              "      <td>792.74</td>\n",
              "      <td>787.28</td>\n",
              "      <td>789.909973</td>\n",
              "      <td>623400.0</td>\n",
              "    </tr>\n",
              "    <tr>\n",
              "      <th>1254</th>\n",
              "      <td>2016-12-27</td>\n",
              "      <td>790.68</td>\n",
              "      <td>797.86</td>\n",
              "      <td>787.66</td>\n",
              "      <td>791.549988</td>\n",
              "      <td>789100.0</td>\n",
              "    </tr>\n",
              "    <tr>\n",
              "      <th>1255</th>\n",
              "      <td>2016-12-28</td>\n",
              "      <td>793.70</td>\n",
              "      <td>794.23</td>\n",
              "      <td>783.20</td>\n",
              "      <td>785.049988</td>\n",
              "      <td>1153800.0</td>\n",
              "    </tr>\n",
              "    <tr>\n",
              "      <th>1256</th>\n",
              "      <td>2016-12-29</td>\n",
              "      <td>783.33</td>\n",
              "      <td>785.93</td>\n",
              "      <td>778.92</td>\n",
              "      <td>782.789978</td>\n",
              "      <td>744300.0</td>\n",
              "    </tr>\n",
              "    <tr>\n",
              "      <th>1257</th>\n",
              "      <td>2016-12-30</td>\n",
              "      <td>782.75</td>\n",
              "      <td>782.78</td>\n",
              "      <td>770.41</td>\n",
              "      <td>771.820007</td>\n",
              "      <td>1770000.0</td>\n",
              "    </tr>\n",
              "  </tbody>\n",
              "</table>\n",
              "<p>1258 rows × 6 columns</p>\n",
              "</div>"
            ],
            "text/plain": [
              "           Date    Open    High     Low       Close      Volume\n",
              "0    2012-01-03  325.25  332.83  324.97  331.463562   7380500.0\n",
              "1    2012-01-04  331.27  333.87  329.08  332.892120   5749400.0\n",
              "2    2012-01-05  329.83  330.75  326.89  328.276733   6590300.0\n",
              "3    2012-01-06  328.34  328.77  323.68  323.796204   5405900.0\n",
              "4    2012-01-09  322.04  322.29  309.46  310.069946  11688800.0\n",
              "...         ...     ...     ...     ...         ...         ...\n",
              "1253 2016-12-23  790.90  792.74  787.28  789.909973    623400.0\n",
              "1254 2016-12-27  790.68  797.86  787.66  791.549988    789100.0\n",
              "1255 2016-12-28  793.70  794.23  783.20  785.049988   1153800.0\n",
              "1256 2016-12-29  783.33  785.93  778.92  782.789978    744300.0\n",
              "1257 2016-12-30  782.75  782.78  770.41  771.820007   1770000.0\n",
              "\n",
              "[1258 rows x 6 columns]"
            ]
          },
          "metadata": {
            "tags": []
          },
          "execution_count": 100
        }
      ]
    },
    {
      "cell_type": "code",
      "metadata": {
        "id": "R0vN1bBjEFoV"
      },
      "source": [
        "df = df.sort_values(by='Date')"
      ],
      "execution_count": 101,
      "outputs": []
    },
    {
      "cell_type": "code",
      "metadata": {
        "id": "8Da304MKEFoY"
      },
      "source": [
        "df['month'] = df['Date'].dt.month"
      ],
      "execution_count": 102,
      "outputs": []
    },
    {
      "cell_type": "code",
      "metadata": {
        "id": "NwSsCiXrEFoa",
        "outputId": "e15dd371-0b9f-40af-f78b-e1c355492b84",
        "colab": {
          "base_uri": "https://localhost:8080/",
          "height": 419
        }
      },
      "source": [
        "df"
      ],
      "execution_count": 103,
      "outputs": [
        {
          "output_type": "execute_result",
          "data": {
            "text/html": [
              "<div>\n",
              "<style scoped>\n",
              "    .dataframe tbody tr th:only-of-type {\n",
              "        vertical-align: middle;\n",
              "    }\n",
              "\n",
              "    .dataframe tbody tr th {\n",
              "        vertical-align: top;\n",
              "    }\n",
              "\n",
              "    .dataframe thead th {\n",
              "        text-align: right;\n",
              "    }\n",
              "</style>\n",
              "<table border=\"1\" class=\"dataframe\">\n",
              "  <thead>\n",
              "    <tr style=\"text-align: right;\">\n",
              "      <th></th>\n",
              "      <th>Date</th>\n",
              "      <th>Open</th>\n",
              "      <th>High</th>\n",
              "      <th>Low</th>\n",
              "      <th>Close</th>\n",
              "      <th>Volume</th>\n",
              "      <th>month</th>\n",
              "    </tr>\n",
              "  </thead>\n",
              "  <tbody>\n",
              "    <tr>\n",
              "      <th>0</th>\n",
              "      <td>2012-01-03</td>\n",
              "      <td>325.25</td>\n",
              "      <td>332.83</td>\n",
              "      <td>324.97</td>\n",
              "      <td>331.463562</td>\n",
              "      <td>7380500.0</td>\n",
              "      <td>1</td>\n",
              "    </tr>\n",
              "    <tr>\n",
              "      <th>1</th>\n",
              "      <td>2012-01-04</td>\n",
              "      <td>331.27</td>\n",
              "      <td>333.87</td>\n",
              "      <td>329.08</td>\n",
              "      <td>332.892120</td>\n",
              "      <td>5749400.0</td>\n",
              "      <td>1</td>\n",
              "    </tr>\n",
              "    <tr>\n",
              "      <th>2</th>\n",
              "      <td>2012-01-05</td>\n",
              "      <td>329.83</td>\n",
              "      <td>330.75</td>\n",
              "      <td>326.89</td>\n",
              "      <td>328.276733</td>\n",
              "      <td>6590300.0</td>\n",
              "      <td>1</td>\n",
              "    </tr>\n",
              "    <tr>\n",
              "      <th>3</th>\n",
              "      <td>2012-01-06</td>\n",
              "      <td>328.34</td>\n",
              "      <td>328.77</td>\n",
              "      <td>323.68</td>\n",
              "      <td>323.796204</td>\n",
              "      <td>5405900.0</td>\n",
              "      <td>1</td>\n",
              "    </tr>\n",
              "    <tr>\n",
              "      <th>4</th>\n",
              "      <td>2012-01-09</td>\n",
              "      <td>322.04</td>\n",
              "      <td>322.29</td>\n",
              "      <td>309.46</td>\n",
              "      <td>310.069946</td>\n",
              "      <td>11688800.0</td>\n",
              "      <td>1</td>\n",
              "    </tr>\n",
              "    <tr>\n",
              "      <th>...</th>\n",
              "      <td>...</td>\n",
              "      <td>...</td>\n",
              "      <td>...</td>\n",
              "      <td>...</td>\n",
              "      <td>...</td>\n",
              "      <td>...</td>\n",
              "      <td>...</td>\n",
              "    </tr>\n",
              "    <tr>\n",
              "      <th>1253</th>\n",
              "      <td>2016-12-23</td>\n",
              "      <td>790.90</td>\n",
              "      <td>792.74</td>\n",
              "      <td>787.28</td>\n",
              "      <td>789.909973</td>\n",
              "      <td>623400.0</td>\n",
              "      <td>12</td>\n",
              "    </tr>\n",
              "    <tr>\n",
              "      <th>1254</th>\n",
              "      <td>2016-12-27</td>\n",
              "      <td>790.68</td>\n",
              "      <td>797.86</td>\n",
              "      <td>787.66</td>\n",
              "      <td>791.549988</td>\n",
              "      <td>789100.0</td>\n",
              "      <td>12</td>\n",
              "    </tr>\n",
              "    <tr>\n",
              "      <th>1255</th>\n",
              "      <td>2016-12-28</td>\n",
              "      <td>793.70</td>\n",
              "      <td>794.23</td>\n",
              "      <td>783.20</td>\n",
              "      <td>785.049988</td>\n",
              "      <td>1153800.0</td>\n",
              "      <td>12</td>\n",
              "    </tr>\n",
              "    <tr>\n",
              "      <th>1256</th>\n",
              "      <td>2016-12-29</td>\n",
              "      <td>783.33</td>\n",
              "      <td>785.93</td>\n",
              "      <td>778.92</td>\n",
              "      <td>782.789978</td>\n",
              "      <td>744300.0</td>\n",
              "      <td>12</td>\n",
              "    </tr>\n",
              "    <tr>\n",
              "      <th>1257</th>\n",
              "      <td>2016-12-30</td>\n",
              "      <td>782.75</td>\n",
              "      <td>782.78</td>\n",
              "      <td>770.41</td>\n",
              "      <td>771.820007</td>\n",
              "      <td>1770000.0</td>\n",
              "      <td>12</td>\n",
              "    </tr>\n",
              "  </tbody>\n",
              "</table>\n",
              "<p>1258 rows × 7 columns</p>\n",
              "</div>"
            ],
            "text/plain": [
              "           Date    Open    High     Low       Close      Volume  month\n",
              "0    2012-01-03  325.25  332.83  324.97  331.463562   7380500.0      1\n",
              "1    2012-01-04  331.27  333.87  329.08  332.892120   5749400.0      1\n",
              "2    2012-01-05  329.83  330.75  326.89  328.276733   6590300.0      1\n",
              "3    2012-01-06  328.34  328.77  323.68  323.796204   5405900.0      1\n",
              "4    2012-01-09  322.04  322.29  309.46  310.069946  11688800.0      1\n",
              "...         ...     ...     ...     ...         ...         ...    ...\n",
              "1253 2016-12-23  790.90  792.74  787.28  789.909973    623400.0     12\n",
              "1254 2016-12-27  790.68  797.86  787.66  791.549988    789100.0     12\n",
              "1255 2016-12-28  793.70  794.23  783.20  785.049988   1153800.0     12\n",
              "1256 2016-12-29  783.33  785.93  778.92  782.789978    744300.0     12\n",
              "1257 2016-12-30  782.75  782.78  770.41  771.820007   1770000.0     12\n",
              "\n",
              "[1258 rows x 7 columns]"
            ]
          },
          "metadata": {
            "tags": []
          },
          "execution_count": 103
        }
      ]
    },
    {
      "cell_type": "code",
      "metadata": {
        "id": "4dXOoyuUEFoc",
        "outputId": "3066ff77-5784-4456-ddee-00c0a33a849d",
        "colab": {
          "base_uri": "https://localhost:8080/",
          "height": 34
        }
      },
      "source": [
        "len(df.Date)"
      ],
      "execution_count": 104,
      "outputs": [
        {
          "output_type": "execute_result",
          "data": {
            "text/plain": [
              "1258"
            ]
          },
          "metadata": {
            "tags": []
          },
          "execution_count": 104
        }
      ]
    },
    {
      "cell_type": "code",
      "metadata": {
        "id": "zW5xA60sEFof",
        "outputId": "2d695499-e46f-43f7-8b52-134bb0db989c",
        "colab": {
          "base_uri": "https://localhost:8080/",
          "height": 286
        }
      },
      "source": [
        "plt.figsize = 10, 8 # width 10, height 8\n",
        "\n",
        "ax = df.plot(x='Date', y='Close', style='b-', grid=True)\n",
        "ax.set_xlabel(\"Date\")\n",
        "ax.set_ylabel(\"Close price\")"
      ],
      "execution_count": 105,
      "outputs": [
        {
          "output_type": "execute_result",
          "data": {
            "text/plain": [
              "Text(0, 0.5, 'Close price')"
            ]
          },
          "metadata": {
            "tags": []
          },
          "execution_count": 105
        },
        {
          "output_type": "display_data",
          "data": {
            "image/png": "[encoded data removed]",
            "text/plain": [
              "<Figure size 432x288 with 1 Axes>"
            ]
          },
          "metadata": {
            "tags": [],
            "needs_background": "light"
          }
        }
      ]
    },
    {
      "cell_type": "code",
      "metadata": {
        "id": "IGmVU8SeEFoh",
        "outputId": "e062f5e3-e45b-49a4-e0c7-b1ae4d4ce8f9",
        "colab": {
          "base_uri": "https://localhost:8080/",
          "height": 102
        }
      },
      "source": [
        "for i in range(len(df.Date)):\n",
        "    if df.Close[i] < df.Low[i]:\n",
        "        print('data at point',i,df.Close[i])"
      ],
      "execution_count": 106,
      "outputs": [
        {
          "output_type": "stream",
          "text": [
            "data at point 248 348.69632\n",
            "data at point 741 517.24\n",
            "data at point 874 535.23\n",
            "data at point 922 306.86316\n",
            "data at point 1179 759.66\n"
          ],
          "name": "stdout"
        }
      ]
    },
    {
      "cell_type": "code",
      "metadata": {
        "id": "grpy7ZgzEFoj",
        "outputId": "d71f7846-c7c9-4cae-a4eb-289abfbc1d96",
        "colab": {
          "base_uri": "https://localhost:8080/",
          "height": 697
        }
      },
      "source": [
        "print('location 741 data : \\n',df.iloc[741], '\\n')\n",
        "print('location 874 data : \\n',df.iloc[874], '\\n')\n",
        "print('location 922 data : \\n',df.iloc[922], '\\n')\n",
        "print('location 1179 data : \\n',df.iloc[1179], '\\n')"
      ],
      "execution_count": 107,
      "outputs": [
        {
          "output_type": "stream",
          "text": [
            "location 741 data : \n",
            " Date      2014-12-12 00:00:00\n",
            "Open                   522.08\n",
            "High                   527.05\n",
            "Low                    517.24\n",
            "Close                  517.24\n",
            "Volume             1.9945e+06\n",
            "month                      12\n",
            "Name: 741, dtype: object \n",
            "\n",
            "location 874 data : \n",
            " Date      2015-06-25 00:00:00\n",
            "Open                   538.87\n",
            "High                    540.9\n",
            "Low                    535.23\n",
            "Close                  535.23\n",
            "Volume             1.3357e+06\n",
            "month                       6\n",
            "Name: 874, dtype: object \n",
            "\n",
            "location 922 data : \n",
            " Date      2015-09-02 00:00:00\n",
            "Open                   605.59\n",
            "High                   614.34\n",
            "Low                    599.71\n",
            "Close                 306.863\n",
            "Volume             2.5756e+06\n",
            "month                       9\n",
            "Name: 922, dtype: object \n",
            "\n",
            "location 1179 data : \n",
            " Date      2016-09-09 00:00:00\n",
            "Open                    770.1\n",
            "High                   773.24\n",
            "Low                    759.66\n",
            "Close                  759.66\n",
            "Volume             1.8855e+06\n",
            "month                       9\n",
            "Name: 1179, dtype: object \n",
            "\n"
          ],
          "name": "stdout"
        }
      ]
    },
    {
      "cell_type": "code",
      "metadata": {
        "id": "3S75GaY0EFom"
      },
      "source": [
        "df = df.drop(922)"
      ],
      "execution_count": 108,
      "outputs": []
    },
    {
      "cell_type": "code",
      "metadata": {
        "id": "1YjsaQWmEFoo",
        "outputId": "162f87f1-9a1b-4b23-f476-a8c2fb15a9c3",
        "colab": {
          "base_uri": "https://localhost:8080/",
          "height": 286
        }
      },
      "source": [
        "plt.figsize = 10, 8 # width 10, height 8\n",
        "\n",
        "ax = df.plot(x='Date', y='Close', style='b-', grid=True)\n",
        "ax.set_xlabel(\"Date\")\n",
        "ax.set_ylabel(\"Close Price\")"
      ],
      "execution_count": 109,
      "outputs": [
        {
          "output_type": "execute_result",
          "data": {
            "text/plain": [
              "Text(0, 0.5, 'Close Price')"
            ]
          },
          "metadata": {
            "tags": []
          },
          "execution_count": 109
        },
        {
          "output_type": "display_data",
          "data": {
            "image/png": "[encoded data removed]",
            "text/plain": [
              "<Figure size 432x288 with 1 Axes>"
            ]
          },
          "metadata": {
            "tags": [],
            "needs_background": "light"
          }
        }
      ]
    },
    {
      "cell_type": "markdown",
      "metadata": {
        "id": "f6gzX4CSEFoq"
      },
      "source": [
        "### Split into train and validation"
      ]
    },
    {
      "cell_type": "code",
      "metadata": {
        "id": "U1zlk60QEFoq",
        "outputId": "466be5c2-174e-487b-9228-41b5933da4d8",
        "colab": {
          "base_uri": "https://localhost:8080/",
          "height": 34
        }
      },
      "source": [
        "val_size = int(0.10*len(df.Date))\n",
        "val_size"
      ],
      "execution_count": 110,
      "outputs": [
        {
          "output_type": "execute_result",
          "data": {
            "text/plain": [
              "125"
            ]
          },
          "metadata": {
            "tags": []
          },
          "execution_count": 110
        }
      ]
    },
    {
      "cell_type": "code",
      "metadata": {
        "id": "bXjoxEQuEFot",
        "outputId": "c7d074ea-e84b-4f02-da28-b0932e7a79e1",
        "colab": {
          "base_uri": "https://localhost:8080/",
          "height": 34
        }
      },
      "source": [
        "train_size = len(df.Date)- val_size\n",
        "train_size"
      ],
      "execution_count": 111,
      "outputs": [
        {
          "output_type": "execute_result",
          "data": {
            "text/plain": [
              "1132"
            ]
          },
          "metadata": {
            "tags": []
          },
          "execution_count": 111
        }
      ]
    },
    {
      "cell_type": "code",
      "metadata": {
        "id": "dJ7GxNmfEFov"
      },
      "source": [
        "df_train = df[:train_size][['Date', 'Close']]\n",
        "df_val = df[train_size:train_size+val_size][['Date', 'Close']]"
      ],
      "execution_count": 112,
      "outputs": []
    },
    {
      "cell_type": "code",
      "metadata": {
        "id": "r2h_liEXEFox"
      },
      "source": [
        "df_full = df[['Date', 'Close']]"
      ],
      "execution_count": 113,
      "outputs": []
    },
    {
      "cell_type": "code",
      "metadata": {
        "id": "8ug4XohCEFo1",
        "outputId": "b2c76079-6b5c-463c-b4f2-5153acb9e16a",
        "colab": {
          "base_uri": "https://localhost:8080/",
          "height": 419
        }
      },
      "source": [
        "df_val"
      ],
      "execution_count": 114,
      "outputs": [
        {
          "output_type": "execute_result",
          "data": {
            "text/html": [
              "<div>\n",
              "<style scoped>\n",
              "    .dataframe tbody tr th:only-of-type {\n",
              "        vertical-align: middle;\n",
              "    }\n",
              "\n",
              "    .dataframe tbody tr th {\n",
              "        vertical-align: top;\n",
              "    }\n",
              "\n",
              "    .dataframe thead th {\n",
              "        text-align: right;\n",
              "    }\n",
              "</style>\n",
              "<table border=\"1\" class=\"dataframe\">\n",
              "  <thead>\n",
              "    <tr style=\"text-align: right;\">\n",
              "      <th></th>\n",
              "      <th>Date</th>\n",
              "      <th>Close</th>\n",
              "    </tr>\n",
              "  </thead>\n",
              "  <tbody>\n",
              "    <tr>\n",
              "      <th>1133</th>\n",
              "      <td>2016-07-06</td>\n",
              "      <td>697.770020</td>\n",
              "    </tr>\n",
              "    <tr>\n",
              "      <th>1134</th>\n",
              "      <td>2016-07-07</td>\n",
              "      <td>695.359985</td>\n",
              "    </tr>\n",
              "    <tr>\n",
              "      <th>1135</th>\n",
              "      <td>2016-07-08</td>\n",
              "      <td>705.630005</td>\n",
              "    </tr>\n",
              "    <tr>\n",
              "      <th>1136</th>\n",
              "      <td>2016-07-11</td>\n",
              "      <td>715.090027</td>\n",
              "    </tr>\n",
              "    <tr>\n",
              "      <th>1137</th>\n",
              "      <td>2016-07-12</td>\n",
              "      <td>720.640015</td>\n",
              "    </tr>\n",
              "    <tr>\n",
              "      <th>...</th>\n",
              "      <td>...</td>\n",
              "      <td>...</td>\n",
              "    </tr>\n",
              "    <tr>\n",
              "      <th>1253</th>\n",
              "      <td>2016-12-23</td>\n",
              "      <td>789.909973</td>\n",
              "    </tr>\n",
              "    <tr>\n",
              "      <th>1254</th>\n",
              "      <td>2016-12-27</td>\n",
              "      <td>791.549988</td>\n",
              "    </tr>\n",
              "    <tr>\n",
              "      <th>1255</th>\n",
              "      <td>2016-12-28</td>\n",
              "      <td>785.049988</td>\n",
              "    </tr>\n",
              "    <tr>\n",
              "      <th>1256</th>\n",
              "      <td>2016-12-29</td>\n",
              "      <td>782.789978</td>\n",
              "    </tr>\n",
              "    <tr>\n",
              "      <th>1257</th>\n",
              "      <td>2016-12-30</td>\n",
              "      <td>771.820007</td>\n",
              "    </tr>\n",
              "  </tbody>\n",
              "</table>\n",
              "<p>125 rows × 2 columns</p>\n",
              "</div>"
            ],
            "text/plain": [
              "           Date       Close\n",
              "1133 2016-07-06  697.770020\n",
              "1134 2016-07-07  695.359985\n",
              "1135 2016-07-08  705.630005\n",
              "1136 2016-07-11  715.090027\n",
              "1137 2016-07-12  720.640015\n",
              "...         ...         ...\n",
              "1253 2016-12-23  789.909973\n",
              "1254 2016-12-27  791.549988\n",
              "1255 2016-12-28  785.049988\n",
              "1256 2016-12-29  782.789978\n",
              "1257 2016-12-30  771.820007\n",
              "\n",
              "[125 rows x 2 columns]"
            ]
          },
          "metadata": {
            "tags": []
          },
          "execution_count": 114
        }
      ]
    },
    {
      "cell_type": "markdown",
      "metadata": {
        "id": "a6PWaJKCEFo3"
      },
      "source": [
        "### Scaling data"
      ]
    },
    {
      "cell_type": "code",
      "metadata": {
        "id": "uv9lYNlZEFo3"
      },
      "source": [
        "sc = MinMaxScaler()\n",
        "train_sc = sc.fit_transform(np.array(df_train['Close']).reshape(-1,1))\n",
        "val_sc = sc.fit_transform(np.array(df_val['Close']).reshape(-1,1))"
      ],
      "execution_count": 115,
      "outputs": []
    },
    {
      "cell_type": "code",
      "metadata": {
        "id": "IdG3yngoEFo5"
      },
      "source": [
        "# No of days \n",
        "N = 10"
      ],
      "execution_count": 116,
      "outputs": []
    },
    {
      "cell_type": "code",
      "metadata": {
        "id": "kNTxFMQyEFo7"
      },
      "source": [
        "def x_y(data, N, o):    \n",
        "    #Split data into x and y    \n",
        "    x, y = [], []\n",
        "    for i in range(o, len(data)):\n",
        "        x.append(data[i-N:i])\n",
        "        y.append(data[i])\n",
        "    x = np.array(x)\n",
        "    y = np.array(y)\n",
        "    \n",
        "    return x, y"
      ],
      "execution_count": 117,
      "outputs": []
    },
    {
      "cell_type": "code",
      "metadata": {
        "id": "I9z9xDWJEFo9"
      },
      "source": [
        "x_train_sc, y_train_sc = x_y(train_sc, N, N)"
      ],
      "execution_count": 118,
      "outputs": []
    },
    {
      "cell_type": "code",
      "metadata": {
        "id": "wPZJwxtvEFo_"
      },
      "source": [
        "def x__y(data, N, o):\n",
        "    x_sc, y, m, std = [],[],[],[]\n",
        "    for i in range(o, len(data)):\n",
        "        m.append(np.mean(data[i-N:i]))\n",
        "        std.append(np.std(data[i-N:i]))\n",
        "        x_sc.append((data[i-N:i] - m[i-o]) / std[i-o])\n",
        "        y.append(data[i])\n",
        "    x_sc = np.array(x_sc)\n",
        "    y = np.array(y)\n",
        "    \n",
        "    return x_sc, y, m, std"
      ],
      "execution_count": 119,
      "outputs": []
    },
    {
      "cell_type": "code",
      "metadata": {
        "id": "oDFAoz-VEFpA"
      },
      "source": [
        "x_val_sc, y_val_sc, mu_val, std_val = x__y(np.array(df_full['Close']).reshape(-1,1), N, train_size)"
      ],
      "execution_count": 120,
      "outputs": []
    },
    {
      "cell_type": "markdown",
      "metadata": {
        "id": "Wf-S0bU2EFpC"
      },
      "source": [
        "### LSTM"
      ]
    },
    {
      "cell_type": "code",
      "metadata": {
        "id": "L6kkW-G1EFpC"
      },
      "source": [
        "lstm_units=50                  \n",
        "dropout_prob=0.2                 \n",
        "optimizer='adam'\n",
        "epochs=50                       \n",
        "batch_size=1   \n",
        "\n"
      ],
      "execution_count": 121,
      "outputs": []
    },
    {
      "cell_type": "code",
      "metadata": {
        "scrolled": true,
        "id": "zv_l3ePWEFpE",
        "outputId": "4a5a31ae-6239-4abb-a133-b1dd91463ea4",
        "colab": {
          "base_uri": "https://localhost:8080/",
          "height": 1000
        }
      },
      "source": [
        "# Create the LSTM network\n",
        "model = Sequential()\n",
        "model.add(LSTM(units=lstm_units, return_sequences=True, input_shape=(x_train_sc.shape[1],1)))\n",
        "model.add(Dropout(dropout_prob)) \n",
        "model.add(LSTM(units=lstm_units))\n",
        "model.add(Dropout(dropout_prob)) \n",
        "model.add(Dense(1))\n",
        "\n",
        "model.compile(loss='mean_squared_error', optimizer=optimizer)\n",
        "model.fit(x_train_sc, y_train_sc, epochs=epochs, batch_size=batch_size, verbose=2)"
      ],
      "execution_count": 122,
      "outputs": [
        {
          "output_type": "stream",
          "text": [
            "Epoch 1/50\n",
            "1122/1122 - 4s - loss: 0.0063\n",
            "Epoch 2/50\n",
            "1122/1122 - 4s - loss: 0.0046\n",
            "Epoch 3/50\n",
            "1122/1122 - 4s - loss: 0.0033\n",
            "Epoch 4/50\n",
            "1122/1122 - 4s - loss: 0.0029\n",
            "Epoch 5/50\n",
            "1122/1122 - 4s - loss: 0.0024\n",
            "Epoch 6/50\n",
            "1122/1122 - 4s - loss: 0.0022\n",
            "Epoch 7/50\n",
            "1122/1122 - 4s - loss: 0.0019\n",
            "Epoch 8/50\n",
            "1122/1122 - 4s - loss: 0.0021\n",
            "Epoch 9/50\n",
            "1122/1122 - 4s - loss: 0.0018\n",
            "Epoch 10/50\n",
            "1122/1122 - 4s - loss: 0.0016\n",
            "Epoch 11/50\n",
            "1122/1122 - 4s - loss: 0.0016\n",
            "Epoch 12/50\n",
            "1122/1122 - 4s - loss: 0.0017\n",
            "Epoch 13/50\n",
            "1122/1122 - 4s - loss: 0.0017\n",
            "Epoch 14/50\n",
            "1122/1122 - 4s - loss: 0.0015\n",
            "Epoch 15/50\n",
            "1122/1122 - 4s - loss: 0.0015\n",
            "Epoch 16/50\n",
            "1122/1122 - 4s - loss: 0.0014\n",
            "Epoch 17/50\n",
            "1122/1122 - 4s - loss: 0.0014\n",
            "Epoch 18/50\n",
            "1122/1122 - 4s - loss: 0.0016\n",
            "Epoch 19/50\n",
            "1122/1122 - 4s - loss: 0.0013\n",
            "Epoch 20/50\n",
            "1122/1122 - 4s - loss: 0.0014\n",
            "Epoch 21/50\n",
            "1122/1122 - 4s - loss: 0.0013\n",
            "Epoch 22/50\n",
            "1122/1122 - 4s - loss: 0.0014\n",
            "Epoch 23/50\n",
            "1122/1122 - 4s - loss: 0.0013\n",
            "Epoch 24/50\n",
            "1122/1122 - 4s - loss: 0.0013\n",
            "Epoch 25/50\n",
            "1122/1122 - 4s - loss: 0.0013\n",
            "Epoch 26/50\n",
            "1122/1122 - 4s - loss: 0.0013\n",
            "Epoch 27/50\n",
            "1122/1122 - 4s - loss: 0.0014\n",
            "Epoch 28/50\n",
            "1122/1122 - 4s - loss: 0.0012\n",
            "Epoch 29/50\n",
            "1122/1122 - 4s - loss: 0.0012\n",
            "Epoch 30/50\n",
            "1122/1122 - 4s - loss: 0.0012\n",
            "Epoch 31/50\n",
            "1122/1122 - 4s - loss: 0.0013\n",
            "Epoch 32/50\n",
            "1122/1122 - 4s - loss: 0.0012\n",
            "Epoch 33/50\n",
            "1122/1122 - 4s - loss: 0.0012\n",
            "Epoch 34/50\n",
            "1122/1122 - 4s - loss: 0.0011\n",
            "Epoch 35/50\n",
            "1122/1122 - 4s - loss: 0.0012\n",
            "Epoch 36/50\n",
            "1122/1122 - 4s - loss: 0.0011\n",
            "Epoch 37/50\n",
            "1122/1122 - 4s - loss: 0.0012\n",
            "Epoch 38/50\n",
            "1122/1122 - 4s - loss: 0.0011\n",
            "Epoch 39/50\n",
            "1122/1122 - 4s - loss: 0.0012\n",
            "Epoch 40/50\n",
            "1122/1122 - 4s - loss: 0.0013\n",
            "Epoch 41/50\n",
            "1122/1122 - 4s - loss: 0.0012\n",
            "Epoch 42/50\n",
            "1122/1122 - 4s - loss: 0.0011\n",
            "Epoch 43/50\n",
            "1122/1122 - 4s - loss: 0.0011\n",
            "Epoch 44/50\n",
            "1122/1122 - 4s - loss: 0.0011\n",
            "Epoch 45/50\n",
            "1122/1122 - 4s - loss: 0.0011\n",
            "Epoch 46/50\n",
            "1122/1122 - 4s - loss: 0.0011\n",
            "Epoch 47/50\n",
            "1122/1122 - 4s - loss: 0.0011\n",
            "Epoch 48/50\n",
            "1122/1122 - 4s - loss: 0.0011\n",
            "Epoch 49/50\n",
            "1122/1122 - 4s - loss: 0.0012\n",
            "Epoch 50/50\n",
            "1122/1122 - 4s - loss: 0.0011\n"
          ],
          "name": "stdout"
        },
        {
          "output_type": "execute_result",
          "data": {
            "text/plain": [
              "<tensorflow.python.keras.callbacks.History at 0x7f85814b1588>"
            ]
          },
          "metadata": {
            "tags": []
          },
          "execution_count": 122
        }
      ]
    },
    {
      "cell_type": "code",
      "metadata": {
        "id": "i1zBwB4bEFpG",
        "outputId": "8e928421-9b4f-4f57-9999-4a3c384bdff2",
        "colab": {
          "base_uri": "https://localhost:8080/",
          "height": 323
        }
      },
      "source": [
        "# Print model summary\n",
        "model.summary()"
      ],
      "execution_count": 123,
      "outputs": [
        {
          "output_type": "stream",
          "text": [
            "Model: \"sequential_32\"\n",
            "_________________________________________________________________\n",
            "Layer (type)                 Output Shape              Param #   \n",
            "=================================================================\n",
            "lstm_63 (LSTM)               (None, 10, 50)            10400     \n",
            "_________________________________________________________________\n",
            "dropout_63 (Dropout)         (None, 10, 50)            0         \n",
            "_________________________________________________________________\n",
            "lstm_64 (LSTM)               (None, 50)                20200     \n",
            "_________________________________________________________________\n",
            "dropout_64 (Dropout)         (None, 50)                0         \n",
            "_________________________________________________________________\n",
            "dense_31 (Dense)             (None, 1)                 51        \n",
            "=================================================================\n",
            "Total params: 30,651\n",
            "Trainable params: 30,651\n",
            "Non-trainable params: 0\n",
            "_________________________________________________________________\n"
          ],
          "name": "stdout"
        }
      ]
    },
    {
      "cell_type": "code",
      "metadata": {
        "id": "YxUyeIwxEFpI",
        "outputId": "d8c72eb6-bc00-422c-e6ac-6d7072882fad",
        "colab": {
          "base_uri": "https://localhost:8080/",
          "height": 51
        }
      },
      "source": [
        "y_pred = model.predict(x_val_sc)\n",
        "y_p = (y_pred * np.array(std_val).reshape(-1,1)) + np.array(mu_val).reshape(-1,1)\n",
        "print(\"Shape = \", (y_p.shape))\n",
        "\n",
        "# Calculate RMSE\n",
        "rmse = math.sqrt(mean_squared_error(y_val_sc, y_p))\n",
        "print(\"RMSE = \", rmse)"
      ],
      "execution_count": 124,
      "outputs": [
        {
          "output_type": "stream",
          "text": [
            "Shape =  (125, 1)\n",
            "RMSE =  9.676930426685425\n"
          ],
          "name": "stdout"
        }
      ]
    },
    {
      "cell_type": "code",
      "metadata": {
        "id": "bwtDYAofEFpL"
      },
      "source": [
        "df_pred = pd.DataFrame({'y_p': y_p.reshape(-1),\n",
        "                       'Date': df_val['Date']})"
      ],
      "execution_count": 126,
      "outputs": []
    },
    {
      "cell_type": "code",
      "metadata": {
        "id": "EeUtUPOXEFpN",
        "outputId": "ed20dd2c-dc54-4ed1-f16f-b70d55bf11c4",
        "colab": {
          "base_uri": "https://localhost:8080/",
          "height": 303
        }
      },
      "source": [
        "ax = plt.figure(figsize=(5,5))\n",
        "ax = df_train.plot(x='Date',y='Close', style='r-', grid=True)\n",
        "ax = df_val.plot(x='Date',y='Close', style='b-', grid=True, ax=ax)\n",
        "ax = df_pred.plot(x='Date', y='y_p', style='g-', grid=True, ax=ax)\n",
        "ax.legend(['train', 'val', 'test'])\n",
        "ax.set_xlabel(\"Date\")\n",
        "ax.set_ylabel(\"Close\")"
      ],
      "execution_count": 127,
      "outputs": [
        {
          "output_type": "execute_result",
          "data": {
            "text/plain": [
              "Text(0, 0.5, 'Close')"
            ]
          },
          "metadata": {
            "tags": []
          },
          "execution_count": 127
        },
        {
          "output_type": "display_data",
          "data": {
            "text/plain": [
              "<Figure size 360x360 with 0 Axes>"
            ]
          },
          "metadata": {
            "tags": []
          }
        },
        {
          "output_type": "display_data",
          "data": {
            "image/png": "[encoded data removed]",
            "text/plain": [
              "<Figure size 432x288 with 1 Axes>"
            ]
          },
          "metadata": {
            "tags": [],
            "needs_background": "light"
          }
        }
      ]
    },
    {
      "cell_type": "code",
      "metadata": {
        "id": "p7Z61nwQEFpP"
      },
      "source": [
        "def model(x_train_sc, y_train_sc, x_val_sc, y_val_sc, m, std, \n",
        "          lstm_units, dropout_prob, optimizer='adam', epochs=1, batch_size=1):\n",
        "    \n",
        "    # Create the LSTM network\n",
        "    model = Sequential()\n",
        "    model.add(LSTM(units=lstm_units,return_sequences=True, input_shape=(x_train_sc.shape[1],1)))\n",
        "    model.add(Dropout(dropout_prob)) \n",
        "    model.add(LSTM(units=lstm_units))\n",
        "    model.add(Dropout(dropout_prob)) \n",
        "    model.add(Dense(1))\n",
        "    \n",
        "    model.compile(loss='mean_squared_error', optimizer=optimizer)\n",
        "    model.fit(x_train_sc, y_train_sc, epochs=epochs, batch_size=batch_size, verbose=0)\n",
        "    \n",
        "    # Prediction\n",
        "    y_pred = model.predict(x_val_sc)\n",
        "    y_p = (y_pred * np.array(std).reshape(-1,1)) + np.array(m).reshape(-1,1)\n",
        "    \n",
        "    rmse = math.sqrt(mean_squared_error(y_val_sc, y_p))\n",
        "    \n",
        "    return rmse"
      ],
      "execution_count": 128,
      "outputs": []
    },
    {
      "cell_type": "markdown",
      "metadata": {
        "id": "H0TvUoH5EFpS"
      },
      "source": [
        "### Tuning"
      ]
    },
    {
      "cell_type": "code",
      "metadata": {
        "id": "Rua9iBn3EFpS"
      },
      "source": [
        "N=10\n",
        "x_train_sc, y_train_sc = x_y(train_sc, N, N)\n",
        "x_val_sc, y_val_sc, m, std = x__y(np.array(df_full['Close']).reshape(-1,1), N, train_size)"
      ],
      "execution_count": 129,
      "outputs": []
    },
    {
      "cell_type": "code",
      "metadata": {
        "id": "1p9fusqTEFpU"
      },
      "source": [
        "p1_label = 'lstm_units'\n",
        "p1 = [10, 32, 50, 64, 128]\n",
        "\n",
        "p2_label = 'dropout_prob'\n",
        "p2 = [0.2, 0.5, 0.6, 0.7, 0.8, 0.9]\n",
        "\n",
        "output = {p1_label: [], p2_label: [], 'rmse': []}\n",
        "start = time.time()\n",
        "for param in p1:\n",
        "    for param2 in p2:\n",
        "        # Train model\n",
        "        rmse = model(x_train_sc, y_train_sc, x_val_sc, y_val_sc, m, std, \n",
        "                    lstm_units=param, dropout_prob=param2, optimizer=optimizer, \n",
        "                    epochs=epochs, batch_size=batch_size)\n",
        "        output[p1_label].append(param)\n",
        "        output[p2_label].append(param2)\n",
        "        output['rmse'].append(rmse)\n",
        "end = time.time()"
      ],
      "execution_count": 130,
      "outputs": []
    },
    {
      "cell_type": "code",
      "metadata": {
        "id": "3kcbLxcqEFpW",
        "outputId": "89f8189a-ab98-493d-c53a-94a7a86268ea",
        "colab": {
          "base_uri": "https://localhost:8080/",
          "height": 561
        }
      },
      "source": [
        "output = pd.DataFrame(output)\n",
        "print(\"Time taken = \", str((end-start)/60.0), \"minutes\")\n",
        "print(output)"
      ],
      "execution_count": 131,
      "outputs": [
        {
          "output_type": "stream",
          "text": [
            "Time taken =  90.06555351018906 minutes\n",
            "    lstm_units  dropout_prob       rmse\n",
            "0           10           0.2  10.661097\n",
            "1           10           0.5  12.085043\n",
            "2           10           0.6  12.588331\n",
            "3           10           0.7  13.510065\n",
            "4           10           0.8  13.518815\n",
            "5           10           0.9  13.434697\n",
            "6           32           0.2   9.476239\n",
            "7           32           0.5  10.640165\n",
            "8           32           0.6  11.464290\n",
            "9           32           0.7  12.015928\n",
            "10          32           0.8  12.624712\n",
            "11          32           0.9  13.618939\n",
            "12          50           0.2   9.819341\n",
            "13          50           0.5  10.471557\n",
            "14          50           0.6  10.947340\n",
            "15          50           0.7  11.570543\n",
            "16          50           0.8  12.294441\n",
            "17          50           0.9  13.337755\n",
            "18          64           0.2   9.925140\n",
            "19          64           0.5  10.611329\n",
            "20          64           0.6  10.929054\n",
            "21          64           0.7  11.775085\n",
            "22          64           0.8  12.125935\n",
            "23          64           0.9  13.115773\n",
            "24         128           0.2  10.655376\n",
            "25         128           0.5  11.422596\n",
            "26         128           0.6  11.537601\n",
            "27         128           0.7  12.085191\n",
            "28         128           0.8  12.381877\n",
            "29         128           0.9  13.929970\n"
          ],
          "name": "stdout"
        }
      ]
    },
    {
      "cell_type": "code",
      "metadata": {
        "id": "MJq71rzjeTYQ",
        "outputId": "13bf1379-f44c-40a9-e601-48c081ad96c2",
        "colab": {
          "base_uri": "https://localhost:8080/",
          "height": 979
        }
      },
      "source": [
        "output"
      ],
      "execution_count": 132,
      "outputs": [
        {
          "output_type": "execute_result",
          "data": {
            "text/html": [
              "<div>\n",
              "<style scoped>\n",
              "    .dataframe tbody tr th:only-of-type {\n",
              "        vertical-align: middle;\n",
              "    }\n",
              "\n",
              "    .dataframe tbody tr th {\n",
              "        vertical-align: top;\n",
              "    }\n",
              "\n",
              "    .dataframe thead th {\n",
              "        text-align: right;\n",
              "    }\n",
              "</style>\n",
              "<table border=\"1\" class=\"dataframe\">\n",
              "  <thead>\n",
              "    <tr style=\"text-align: right;\">\n",
              "      <th></th>\n",
              "      <th>lstm_units</th>\n",
              "      <th>dropout_prob</th>\n",
              "      <th>rmse</th>\n",
              "    </tr>\n",
              "  </thead>\n",
              "  <tbody>\n",
              "    <tr>\n",
              "      <th>0</th>\n",
              "      <td>10</td>\n",
              "      <td>0.2</td>\n",
              "      <td>10.661097</td>\n",
              "    </tr>\n",
              "    <tr>\n",
              "      <th>1</th>\n",
              "      <td>10</td>\n",
              "      <td>0.5</td>\n",
              "      <td>12.085043</td>\n",
              "    </tr>\n",
              "    <tr>\n",
              "      <th>2</th>\n",
              "      <td>10</td>\n",
              "      <td>0.6</td>\n",
              "      <td>12.588331</td>\n",
              "    </tr>\n",
              "    <tr>\n",
              "      <th>3</th>\n",
              "      <td>10</td>\n",
              "      <td>0.7</td>\n",
              "      <td>13.510065</td>\n",
              "    </tr>\n",
              "    <tr>\n",
              "      <th>4</th>\n",
              "      <td>10</td>\n",
              "      <td>0.8</td>\n",
              "      <td>13.518815</td>\n",
              "    </tr>\n",
              "    <tr>\n",
              "      <th>5</th>\n",
              "      <td>10</td>\n",
              "      <td>0.9</td>\n",
              "      <td>13.434697</td>\n",
              "    </tr>\n",
              "    <tr>\n",
              "      <th>6</th>\n",
              "      <td>32</td>\n",
              "      <td>0.2</td>\n",
              "      <td>9.476239</td>\n",
              "    </tr>\n",
              "    <tr>\n",
              "      <th>7</th>\n",
              "      <td>32</td>\n",
              "      <td>0.5</td>\n",
              "      <td>10.640165</td>\n",
              "    </tr>\n",
              "    <tr>\n",
              "      <th>8</th>\n",
              "      <td>32</td>\n",
              "      <td>0.6</td>\n",
              "      <td>11.464290</td>\n",
              "    </tr>\n",
              "    <tr>\n",
              "      <th>9</th>\n",
              "      <td>32</td>\n",
              "      <td>0.7</td>\n",
              "      <td>12.015928</td>\n",
              "    </tr>\n",
              "    <tr>\n",
              "      <th>10</th>\n",
              "      <td>32</td>\n",
              "      <td>0.8</td>\n",
              "      <td>12.624712</td>\n",
              "    </tr>\n",
              "    <tr>\n",
              "      <th>11</th>\n",
              "      <td>32</td>\n",
              "      <td>0.9</td>\n",
              "      <td>13.618939</td>\n",
              "    </tr>\n",
              "    <tr>\n",
              "      <th>12</th>\n",
              "      <td>50</td>\n",
              "      <td>0.2</td>\n",
              "      <td>9.819341</td>\n",
              "    </tr>\n",
              "    <tr>\n",
              "      <th>13</th>\n",
              "      <td>50</td>\n",
              "      <td>0.5</td>\n",
              "      <td>10.471557</td>\n",
              "    </tr>\n",
              "    <tr>\n",
              "      <th>14</th>\n",
              "      <td>50</td>\n",
              "      <td>0.6</td>\n",
              "      <td>10.947340</td>\n",
              "    </tr>\n",
              "    <tr>\n",
              "      <th>15</th>\n",
              "      <td>50</td>\n",
              "      <td>0.7</td>\n",
              "      <td>11.570543</td>\n",
              "    </tr>\n",
              "    <tr>\n",
              "      <th>16</th>\n",
              "      <td>50</td>\n",
              "      <td>0.8</td>\n",
              "      <td>12.294441</td>\n",
              "    </tr>\n",
              "    <tr>\n",
              "      <th>17</th>\n",
              "      <td>50</td>\n",
              "      <td>0.9</td>\n",
              "      <td>13.337755</td>\n",
              "    </tr>\n",
              "    <tr>\n",
              "      <th>18</th>\n",
              "      <td>64</td>\n",
              "      <td>0.2</td>\n",
              "      <td>9.925140</td>\n",
              "    </tr>\n",
              "    <tr>\n",
              "      <th>19</th>\n",
              "      <td>64</td>\n",
              "      <td>0.5</td>\n",
              "      <td>10.611329</td>\n",
              "    </tr>\n",
              "    <tr>\n",
              "      <th>20</th>\n",
              "      <td>64</td>\n",
              "      <td>0.6</td>\n",
              "      <td>10.929054</td>\n",
              "    </tr>\n",
              "    <tr>\n",
              "      <th>21</th>\n",
              "      <td>64</td>\n",
              "      <td>0.7</td>\n",
              "      <td>11.775085</td>\n",
              "    </tr>\n",
              "    <tr>\n",
              "      <th>22</th>\n",
              "      <td>64</td>\n",
              "      <td>0.8</td>\n",
              "      <td>12.125935</td>\n",
              "    </tr>\n",
              "    <tr>\n",
              "      <th>23</th>\n",
              "      <td>64</td>\n",
              "      <td>0.9</td>\n",
              "      <td>13.115773</td>\n",
              "    </tr>\n",
              "    <tr>\n",
              "      <th>24</th>\n",
              "      <td>128</td>\n",
              "      <td>0.2</td>\n",
              "      <td>10.655376</td>\n",
              "    </tr>\n",
              "    <tr>\n",
              "      <th>25</th>\n",
              "      <td>128</td>\n",
              "      <td>0.5</td>\n",
              "      <td>11.422596</td>\n",
              "    </tr>\n",
              "    <tr>\n",
              "      <th>26</th>\n",
              "      <td>128</td>\n",
              "      <td>0.6</td>\n",
              "      <td>11.537601</td>\n",
              "    </tr>\n",
              "    <tr>\n",
              "      <th>27</th>\n",
              "      <td>128</td>\n",
              "      <td>0.7</td>\n",
              "      <td>12.085191</td>\n",
              "    </tr>\n",
              "    <tr>\n",
              "      <th>28</th>\n",
              "      <td>128</td>\n",
              "      <td>0.8</td>\n",
              "      <td>12.381877</td>\n",
              "    </tr>\n",
              "    <tr>\n",
              "      <th>29</th>\n",
              "      <td>128</td>\n",
              "      <td>0.9</td>\n",
              "      <td>13.929970</td>\n",
              "    </tr>\n",
              "  </tbody>\n",
              "</table>\n",
              "</div>"
            ],
            "text/plain": [
              "    lstm_units  dropout_prob       rmse\n",
              "0           10           0.2  10.661097\n",
              "1           10           0.5  12.085043\n",
              "2           10           0.6  12.588331\n",
              "3           10           0.7  13.510065\n",
              "4           10           0.8  13.518815\n",
              "5           10           0.9  13.434697\n",
              "6           32           0.2   9.476239\n",
              "7           32           0.5  10.640165\n",
              "8           32           0.6  11.464290\n",
              "9           32           0.7  12.015928\n",
              "10          32           0.8  12.624712\n",
              "11          32           0.9  13.618939\n",
              "12          50           0.2   9.819341\n",
              "13          50           0.5  10.471557\n",
              "14          50           0.6  10.947340\n",
              "15          50           0.7  11.570543\n",
              "16          50           0.8  12.294441\n",
              "17          50           0.9  13.337755\n",
              "18          64           0.2   9.925140\n",
              "19          64           0.5  10.611329\n",
              "20          64           0.6  10.929054\n",
              "21          64           0.7  11.775085\n",
              "22          64           0.8  12.125935\n",
              "23          64           0.9  13.115773\n",
              "24         128           0.2  10.655376\n",
              "25         128           0.5  11.422596\n",
              "26         128           0.6  11.537601\n",
              "27         128           0.7  12.085191\n",
              "28         128           0.8  12.381877\n",
              "29         128           0.9  13.929970"
            ]
          },
          "metadata": {
            "tags": []
          },
          "execution_count": 132
        }
      ]
    },
    {
      "cell_type": "code",
      "metadata": {
        "id": "k_UNs-K-cvMd",
        "outputId": "6d4620fc-6efa-4cc6-fd1c-1d9faec84bab",
        "colab": {
          "base_uri": "https://localhost:8080/",
          "height": 68
        }
      },
      "source": [
        "# Get optimum value for param and param2\n",
        "temp = output[output['rmse'] == output['rmse'].min()]\n",
        "lstm_units_final = temp[p1_label].values[0]\n",
        "dropout_prob_final = temp[p2_label].values[0]\n",
        "print(\"min RMSE = %0.3f\" % output['rmse'].min())\n",
        "print(\"optimum \", p1_label , \" = \", str(lstm_units_final))\n",
        "print(\"optimum \", p2_label , \" = \", str(dropout_prob_final))"
      ],
      "execution_count": 133,
      "outputs": [
        {
          "output_type": "stream",
          "text": [
            "min RMSE = 9.476\n",
            "optimum  lstm_units  =  32\n",
            "optimum  dropout_prob  =  0.2\n"
          ],
          "name": "stdout"
        }
      ]
    },
    {
      "cell_type": "code",
      "metadata": {
        "id": "RhPf_4SnEFpY"
      },
      "source": [
        "p_label = 'optimizer'\n",
        "p_list = ['adam', 'sgd', 'rmsprop', 'adagrad', 'adadelta', 'adamax', 'nadam']\n",
        "\n",
        "output2 = {p_label: [], 'rmse': []}\n",
        "start2 = time.time()\n",
        "for param in p_list:\n",
        "    rmse = model(x_train_sc, y_train_sc, x_val_sc, y_val_sc, m, std, \n",
        "                    lstm_units=lstm_units_final, dropout_prob=dropout_prob_final, optimizer=param, \n",
        "                    epochs=epochs, batch_size=batch_size)\n",
        "    # Collect results\n",
        "    output2[p_label].append(param)\n",
        "    output2['rmse'].append(rmse)\n",
        "end2 = time.time()"
      ],
      "execution_count": 134,
      "outputs": []
    },
    {
      "cell_type": "code",
      "metadata": {
        "id": "HPczhqdbfNfI",
        "outputId": "09aece41-f8b6-4a56-f81e-39f6ed9ae789",
        "colab": {
          "base_uri": "https://localhost:8080/",
          "height": 170
        }
      },
      "source": [
        "output2 = pd.DataFrame(output2)\n",
        "print(\"Time taken = \", str((end2-start2)/60.0), \"minutes\")\n",
        "print(output2)"
      ],
      "execution_count": 135,
      "outputs": [
        {
          "output_type": "stream",
          "text": [
            "Time taken =  23.239992972215017 minutes\n",
            "  optimizer       rmse\n",
            "0      adam   9.356405\n",
            "1       sgd  13.984245\n",
            "2   rmsprop  10.112763\n",
            "3   adagrad  14.909684\n",
            "4  adadelta  14.846204\n",
            "5    adamax  10.742085\n",
            "6     nadam   9.058347\n"
          ],
          "name": "stdout"
        }
      ]
    },
    {
      "cell_type": "code",
      "metadata": {
        "id": "DdZvBVZ2EFpZ",
        "outputId": "9df91120-b1f6-4bc5-ded9-c710bdf4ba0a",
        "colab": {
          "base_uri": "https://localhost:8080/",
          "height": 51
        }
      },
      "source": [
        "temp2 = output2[output2['rmse'] == output2['rmse'].min()]\n",
        "optimizer_final = temp2[p_label].values[0]\n",
        "print(\"min RMSE = %0.3f\" % output2['rmse'].min())\n",
        "print(\"optimum \", p_label , \" = \", str(optimizer_final))"
      ],
      "execution_count": 136,
      "outputs": [
        {
          "output_type": "stream",
          "text": [
            "min RMSE = 9.058\n",
            "optimum  optimizer  =  nadam\n"
          ],
          "name": "stdout"
        }
      ]
    },
    {
      "cell_type": "code",
      "metadata": {
        "id": "V9fbuDdhEFpb"
      },
      "source": [
        ""
      ],
      "execution_count": 136,
      "outputs": []
    },
    {
      "cell_type": "code",
      "metadata": {
        "id": "m9hLP_9yEFpd"
      },
      "source": [
        ""
      ],
      "execution_count": 136,
      "outputs": []
    },
    {
      "cell_type": "code",
      "metadata": {
        "id": "Og1DL7WqEFpe"
      },
      "source": [
        ""
      ],
      "execution_count": 136,
      "outputs": []
    },
    {
      "cell_type": "code",
      "metadata": {
        "id": "lEmclJc4EFpg"
      },
      "source": [
        ""
      ],
      "execution_count": 136,
      "outputs": []
    },
    {
      "cell_type": "code",
      "metadata": {
        "id": "CmCn8hI4EFpi"
      },
      "source": [
        ""
      ],
      "execution_count": 136,
      "outputs": []
    },
    {
      "cell_type": "code",
      "metadata": {
        "id": "H3PHr67WEFpl"
      },
      "source": [
        ""
      ],
      "execution_count": 136,
      "outputs": []
    },
    {
      "cell_type": "code",
      "metadata": {
        "id": "Vn1q85mpEFpo"
      },
      "source": [
        ""
      ],
      "execution_count": 136,
      "outputs": []
    },
    {
      "cell_type": "code",
      "metadata": {
        "id": "QxSk2ZhZEFpp"
      },
      "source": [
        ""
      ],
      "execution_count": 136,
      "outputs": []
    },
    {
      "cell_type": "code",
      "metadata": {
        "id": "xZUfm048EFps"
      },
      "source": [
        ""
      ],
      "execution_count": 136,
      "outputs": []
    },
    {
      "cell_type": "code",
      "metadata": {
        "id": "LUnPBJSaEFpt"
      },
      "source": [
        ""
      ],
      "execution_count": 136,
      "outputs": []
    },
    {
      "cell_type": "code",
      "metadata": {
        "id": "MeSaiwoHEFpv"
      },
      "source": [
        ""
      ],
      "execution_count": 136,
      "outputs": []
    },
    {
      "cell_type": "code",
      "metadata": {
        "id": "UIZXzBqcEFp6"
      },
      "source": [
        ""
      ],
      "execution_count": null,
      "outputs": []
    }
  ]
}